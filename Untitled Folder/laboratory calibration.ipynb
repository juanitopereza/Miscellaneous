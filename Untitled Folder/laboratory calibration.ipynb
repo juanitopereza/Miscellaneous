{
 "cells": [
  {
   "cell_type": "code",
   "execution_count": 1,
   "metadata": {
    "collapsed": true
   },
   "outputs": [],
   "source": [
    "# In order to use Python 2.7 with new features from Python 3\n",
    "# Not necessary if you use Python 3\n",
    "from __future__ import division\n",
    "from __future__ import print_function"
   ]
  },
  {
   "cell_type": "code",
   "execution_count": 2,
   "metadata": {
    "collapsed": true
   },
   "outputs": [],
   "source": [
    "# Importing Python librairies\n",
    "import pandas as pd # library for dataframes\n",
    "import scipy.stats as spst\n",
    "import numpy as np\n",
    "import matplotlib.pyplot as plt\n",
    "import matplotlib.mlab as mlab\n",
    "import math"
   ]
  },
  {
   "cell_type": "code",
   "execution_count": 3,
   "metadata": {
    "collapsed": true
   },
   "outputs": [],
   "source": [
    "#Reading data\n",
    "# Path\n",
    "path = './dataE/'# data directory\n",
    "# import datafile\n",
    "txt0 = pd.read_csv(path+'cal00.txt',        # path of the file to read\n",
    "                   header=None,        # remove header if any\n",
    "                   #sep=\"\\s+\",          # separator\n",
    "                   names=[\"E0\"])  # give name to columns\n",
    "txt05 = pd.read_csv(path+'cal05.txt',        # path of the file to read\n",
    "                   header=None,        # remove header if any\n",
    "                   names=[\"E05\"])  # give name to columns\n",
    "txt10 = pd.read_csv(path+'cal10.txt',        # path of the file to read\n",
    "                   header=None,        # remove header if any\n",
    "                   names=[\"E10\"])  # give name to columns\n",
    "txt15 = pd.read_csv(path+'cal15.txt',        # path of the file to read\n",
    "                   header=None,        # remove header if any\n",
    "                   names=[\"E15\"])  # give name to columns\n",
    "txt20 = pd.read_csv(path+'cal20.txt',        # path of the file to read\n",
    "                   header=None,        # remove header if any\n",
    "                   names=[\"E20\"])  # give name to columns\n",
    "txt25 = pd.read_csv(path+'cal25.txt',        # path of the file to read\n",
    "                   header=None,        # remove header if any\n",
    "                   names=[\"E25\"])  # give name to columns\n",
    "txt30 = pd.read_csv(path+'cal30.txt',        # path of the file to read\n",
    "                   header=None,        # remove header if any\n",
    "                   names=[\"E30\"])  # give name to columns\n",
    "txt35 = pd.read_csv(path+'cal35.txt',        # path of the file to read\n",
    "                   header=None,        # remove header if any\n",
    "                   names=[\"E35\"])  # give name to columns\n",
    "txt40 = pd.read_csv(path+'cal40.txt',        # path of the file to read\n",
    "                   header=None,        # remove header if any\n",
    "                   names=[\"E40\"])  # give name to columns\n",
    "data = pd.concat([txt0, txt05, txt10,txt15,txt20,txt25,txt30,txt35,txt40], axis=1)"
   ]
  },
  {
   "cell_type": "code",
   "execution_count": 4,
   "metadata": {
    "collapsed": true
   },
   "outputs": [],
   "source": [
    "#creating the vector for the fecuency\n",
    "fz=[0,5,10,15,20,25,30,35,40]"
   ]
  },
  {
   "cell_type": "code",
   "execution_count": 5,
   "metadata": {
    "collapsed": true
   },
   "outputs": [],
   "source": [
    "# Computation of the mean \n",
    "# use function: data.mean()\n",
    "mean = data.mean()\n",
    "# Computation of the standard deviation\n",
    "# use function: data.std()\n",
    "std = data.std()\n",
    "# Skewness\n",
    "# use function: data.skew()\n",
    "skew = data.skew()\n",
    "# Kurtosis: must be equal to 3 for a Gaussian process\n",
    "# use function: data.kurtosis() +3\n",
    "kurt = data.kurtosis() +3"
   ]
  },
  {
   "cell_type": "code",
   "execution_count": 7,
   "metadata": {
    "collapsed": true
   },
   "outputs": [],
   "source": [
    "#pressure measured\n",
    "P=[0,0.4905,1.2753,2.4525,4.0221,6.1803,7.7499,10.4967,13.6359]\n",
    "#Temperature and atmosferic pressure\n",
    "T=18\n",
    "Patm=99200\n",
    "#density of air\n",
    "rho=(1.293/(1+(0.00367*T)))*(Patm/(1.013*(10**5)))\n",
    "#flow velocity\n",
    "U=np.zeros(len(P))\n",
    "for i in range (0,len(P)):\n",
    "    U[i]=math.sqrt(2*(P[i]/rho))"
   ]
  },
  {
   "cell_type": "markdown",
   "metadata": {},
   "source": [
    "### Calibration of the hot-wire anemometor"
   ]
  },
  {
   "cell_type": "code",
   "execution_count": 41,
   "metadata": {},
   "outputs": [
    {
     "name": "stdout",
     "output_type": "stream",
     "text": [
      "a=4.63171324459, b=1.48813234443, n=0.641866655328\n"
     ]
    },
    {
     "data": {
      "text/plain": [
       "E0     4.663210\n",
       "E05    5.868103\n",
       "E10    6.540295\n",
       "E15    7.049609\n",
       "E20    7.470965\n",
       "E25    7.829699\n",
       "E30    8.054490\n",
       "E35    8.349268\n",
       "E40    8.615536\n",
       "dtype: float64"
      ]
     },
     "execution_count": 41,
     "metadata": {},
     "output_type": "execute_result"
    }
   ],
   "source": [
    "#Definition of King's law\n",
    "E=mean\n",
    "def KL(Vx,a,b,n):\n",
    "    return a+(b*(Vx**n)) \n",
    "from scipy.optimize import curve_fit\n",
    "coeffs, matcov = curve_fit(KL, U, E**2)\n",
    "a=coeffs[0]\n",
    "b=coeffs[1]\n",
    "nKL=coeffs[2]\n",
    "print('a={}, b={}, n={}'.format(a,b,nKL))\n"
   ]
  },
  {
   "cell_type": "code",
   "execution_count": 44,
   "metadata": {},
   "outputs": [
    {
     "data": {
      "image/png": "[encoded data removed]",
      "text/plain": [
       "<Figure size 432x288 with 1 Axes>"
      ]
     },
     "metadata": {
      "needs_background": "light"
     },
     "output_type": "display_data"
    }
   ],
   "source": [
    "plt.scatter(U,E**2)\n",
    "u=np.linspace(min(U),max(U),100)\n",
    "plt.plot(u,KL(u,a,b,nKL))\n",
    "plt.xlabel('U Mean velocity (m/s)')\n",
    "plt.ylabel('E$^2$ Voltage$^2$ (volt$^2$)')\n",
    "\n",
    "plt.title('Comparation of the Kings law function behaviour,\\n the square of the voltage and the flow velocity measured')\n",
    "plt.savefig('uKL.png')"
   ]
  },
  {
   "cell_type": "markdown",
   "metadata": {},
   "source": [
    "### Choise of adquisitions of parameters"
   ]
  },
  {
   "cell_type": "code",
   "execution_count": 21,
   "metadata": {
    "collapsed": true
   },
   "outputs": [],
   "source": [
    "L=90*(10**-3)\n",
    "h1= 7*(10**-3)\n",
    "h2= 16*(10**-3)\n",
    "h3= 32*(10**-3)\n",
    "z=20*(10**-2)\n",
    "#boundary thickness calibration\n",
    "btc= 10*(10**-2)\n",
    "#boundary layer thickness L\n",
    "blt=90*(10**-3)\n",
    "U1=2.1\n",
    "U2=2.8\n",
    "U3=3.2\n",
    "\n",
    "#T=L/U"
   ]
  },
  {
   "cell_type": "code",
   "execution_count": 28,
   "metadata": {},
   "outputs": [
    {
     "name": "stdout",
     "output_type": "stream",
     "text": [
      "[       inf 0.11003353 0.0682399  0.04920849 0.03842538 0.03099844\n",
      " 0.02768194 0.02378582 0.02086905]\n",
      "t1 = 0.0428571428571, t2 = 0.0321428571429 and t3 = 0.028125\n",
      "inf\n"
     ]
    },
    {
     "name": "stderr",
     "output_type": "stream",
     "text": [
      "C:\\Users\\Angye\\Anaconda\\lib\\site-packages\\ipykernel_launcher.py:3: RuntimeWarning: divide by zero encountered in double_scalars\n",
      "  This is separate from the ipykernel package so we can avoid doing imports until\n"
     ]
    }
   ],
   "source": [
    "T= np.zeros(len(U))\n",
    "for i in range (len(U)):\n",
    "    T[i]=btc/U[i]\n",
    "print (T)\n",
    "t1=blt/U1\n",
    "t2=blt/U2\n",
    "t3=blt/U3\n",
    "print('t1 = {}, t2 = {} and t3 = {}'.format(t1,t2,t3))\n",
    "print(T.mean())"
   ]
  },
  {
   "cell_type": "code",
   "execution_count": 45,
   "metadata": {},
   "outputs": [
    {
     "name": "stdout",
     "output_type": "stream",
     "text": [
      "n1 = 1836.73469388, n2 = 943.367346939 and n3 = 534.765625\n"
     ]
    }
   ],
   "source": [
    "#accurancy 0.5%\n",
    "acc=0.5/100\n",
    "o1=0.45\n",
    "o2=0.43\n",
    "o3=0.37\n",
    "n1=(o1/(acc*U1))**2\n",
    "n2=o2**2/(acc*U2)**2\n",
    "n3=o3**2/(acc*U3)**2\n",
    "print('n1 = {}, n2 = {} and n3 = {}'.format(n1,n2,n3))"
   ]
  },
  {
   "cell_type": "code",
   "execution_count": 50,
   "metadata": {},
   "outputs": [
    {
     "name": "stderr",
     "output_type": "stream",
     "text": [
      "C:\\Users\\Angye\\Anaconda\\lib\\site-packages\\ipykernel_launcher.py:3: RuntimeWarning: divide by zero encountered in double_scalars\n",
      "  This is separate from the ipykernel package so we can avoid doing imports until\n"
     ]
    },
    {
     "data": {
      "text/plain": [
       "0.4379907225530992"
      ]
     },
     "execution_count": 50,
     "metadata": {},
     "output_type": "execute_result"
    }
   ],
   "source": [
    "NN= np.zeros(len(std))\n",
    "for i in range (len(std)):\n",
    "    NN[i]==(std[i]/(acc*U[i]))**2\n",
    "bbb=std[4]**2/(acc*U[4])**2\n",
    "bbb"
   ]
  },
  {
   "cell_type": "markdown",
   "metadata": {},
   "source": []
  }
 ],
 "metadata": {
  "kernelspec": {
   "display_name": "Python 2",
   "language": "python",
   "name": "python2"
  },
  "language_info": {
   "codemirror_mode": {
    "name": "ipython",
    "version": 2
   },
   "file_extension": ".py",
   "mimetype": "text/x-python",
   "name": "python",
   "nbconvert_exporter": "python",
   "pygments_lexer": "ipython2",
   "version": "2.7.13"
  }
 },
 "nbformat": 4,
 "nbformat_minor": 2
}
