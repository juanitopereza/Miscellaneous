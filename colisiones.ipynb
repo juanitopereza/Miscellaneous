{
 "cells": [
  {
   "cell_type": "code",
   "execution_count": 1,
   "metadata": {},
   "outputs": [
    {
     "name": "stdout",
     "output_type": "stream",
     "text": [
      "Populating the interactive namespace from numpy and matplotlib\n"
     ]
    }
   ],
   "source": [
    "%pylab inline\n",
    "import imageio"
   ]
  },
  {
   "cell_type": "code",
   "execution_count": 2,
   "metadata": {
    "collapsed": true
   },
   "outputs": [],
   "source": [
    "K = 5000  # Dinas / cm^3\n",
    "\n",
    "def Distancia(x1, x2, y1, y2):\n",
    "    # Sumamos los cuadrados y luego\n",
    "    d = (x1 - x2) ** 2 + (y1 - y2)**2 \n",
    "    # tomamos la raiz cuadrada\n",
    "    d = d**0.5 \n",
    "    return d\n",
    "\n",
    "class Bolita():\n",
    "    \n",
    "    def __init__(self, x, y, Vx, Vy, m, r):\n",
    "        self.x = x       # Posicion (cm)\n",
    "        self.y = y       # Posicion (cm)\n",
    "        self.Vx = Vx     # Velocidad (cm/s)\n",
    "        self.Vy = Vy     # Velocidad (cm/s)\n",
    "        self.m = m       # Masa (g)\n",
    "        self.r = r       # Radio de la bolita (cm)\n",
    "        self.Fx = 0      # Fuerza (dinas)\n",
    "        self.Fy = 0      # Fuerza (dinas)\n",
    "\n",
    "    def ReiniciaFuerzas(self):\n",
    "        self.Fx = 0\n",
    "        self.Fy = 0\n",
    "        \n",
    "    def CalculaFuerza(self, otraBolita):\n",
    "\n",
    "        # Primero necesitamos las posiciones.\n",
    "        x1 = self.x\n",
    "        y1 = self.y     \n",
    "        x2 = getattr(otraBolita, \"x\")\n",
    "        y2 = getattr(otraBolita, \"y\")\n",
    "        \n",
    "        # Con esto calculamos la distancia.\n",
    "        d = Distancia( x1, x2, y1, y2)\n",
    "       \n",
    "        # Ahora calculamos cuánto se ha comprimido esta bolita.\n",
    "        R1 = self.r\n",
    "        R2 = getattr(otraBolita, \"r\")\n",
    "        \n",
    "        # Cuando están en contacto ambas superficies, la distancia\n",
    "        # entre el centro de una y el centro de la otra es igual a\n",
    "        # la suma de los radios.\n",
    "        #  R1 + R2 = d\n",
    "        #        0 = d - R1 - R2\n",
    "        Compresion = d - R1 - R2\n",
    "        \n",
    "        # Si este valor es negativo, están en contacto.\n",
    "        if( Compresion < 0):\n",
    "            # Calculamos la magnitud del vector Fuerza\n",
    "            F = K * Compresion**3\n",
    "            # Y ahora calculamos las componentes con el vector unitario que \n",
    "            #\n",
    "            # d =  delta_x i + delta_y j\n",
    "            #\n",
    "            self.Fx += F * (x2 - x1) / d\n",
    "            self.Fy += F * (y2 - y1) / d\n",
    "            \n",
    "            \n",
    "    def Muevete(self, dt):\n",
    "        # Integración de Euler\n",
    "        # Cambia posición un dt * Velocidad\n",
    "        self.x += dt * self.Vx\n",
    "        self.y += dt * self.Vy\n",
    "        \n",
    "        # Acelera: Cambia velocidad según la fuerza aplicada.\n",
    "        self.Vx += dt * self.Fx / self.m\n",
    "        self.Vy += dt * self.Fy / self.m\n",
    "        \n",
    "    def Energia(self):\n",
    "        ###################################### Calcular la energía de cada partícula!\n",
    "        self.ener = 0.5 * self.m * (self.Vx**2 + self.Vy**2)\n",
    "        return 0"
   ]
  },
  {
   "cell_type": "code",
   "execution_count": 35,
   "metadata": {
    "collapsed": true
   },
   "outputs": [],
   "source": [
    "##### Condiciones Iniciales ###################################\n",
    "\n",
    "a = Bolita(-10.0,  3.0, 2.0, 0.0, 100, 2.5) # Está x=-10, y=0 y se dirige hacia b\n",
    "b = Bolita(  0.0,  0.0, 0.0, 0.0, 200, 2.5) # Está en el origen, quieta.\n",
    "c = Bolita( 0.0,  5.0, 0.0, 0.0,  20, 2.0) # Está quieta.\n",
    "\n",
    "\n",
    "T  = []\n",
    "Xa = []\n",
    "Ya = []\n",
    "\n",
    "Xb = []\n",
    "Yb = []\n",
    "\n",
    "Xc = []\n",
    "Yc = []\n",
    "\n",
    "E = [] ## Energía cinética del sistema.\n",
    "\n",
    "\n",
    "#Momento del sistema\n",
    "Px = []\n",
    "Py = []\n",
    "\n",
    "t = 0\n",
    "deltaT = 5e-4      # DeltaT = 0.0005 segundos.\n",
    "\n",
    "PrintStep = int(0.1 / deltaT) # Para tomar un snapshot cada 0.1 segundos"
   ]
  },
  {
   "cell_type": "code",
   "execution_count": 4,
   "metadata": {},
   "outputs": [
    {
     "name": "stdout",
     "output_type": "stream",
     "text": [
      "mkdir: cannot create directory ‘trayectoria’: File exists\r\n"
     ]
    }
   ],
   "source": [
    "!mkdir trayectoria"
   ]
  },
  {
   "cell_type": "code",
   "execution_count": 36,
   "metadata": {
    "collapsed": true
   },
   "outputs": [],
   "source": [
    "i = 0\n",
    "j = 0\n",
    "\n",
    "theta = np.linspace(0,2*np.pi,30)  # Parametro para graficar\n",
    "\n",
    "filenames = []  # Guarda los nombres de los cuadros a grabar\n",
    "\n",
    "while (t < 10):\n",
    "    \n",
    "    a.ReiniciaFuerzas()\n",
    "    b.ReiniciaFuerzas()\n",
    "    c.ReiniciaFuerzas()\n",
    " \n",
    "    a.CalculaFuerza(b)\n",
    "    b.CalculaFuerza(a)\n",
    "    c.CalculaFuerza(a)\n",
    "    \n",
    "    a.Muevete(deltaT)\n",
    "    b.Muevete(deltaT)\n",
    "    c.Muevete(deltaT)\n",
    "    \n",
    "    a.Energia()\n",
    "    b.Energia()\n",
    "    c.Energia()\n",
    "    \n",
    "\n",
    "    \n",
    "    if( PrintStep % 200 == 0): # Guarda cada 0.1 segundos.\n",
    "        \n",
    "        T.append( t)\n",
    "        \n",
    "        Xa.append( getattr(a, \"x\"))\n",
    "        Ya.append( getattr(a, \"y\"))\n",
    "        \n",
    "        Xb.append( getattr(b, \"x\"))\n",
    "        Yb.append( getattr(b, \"y\"))\n",
    "        \n",
    "        ##############################\n",
    "        # An~adir posicion Xc y Yc\n",
    "        Xc.append( getattr(c, \"x\"))\n",
    "        Yc.append( getattr(c, \"y\"))\n",
    "        #############################\n",
    "        \n",
    "        #############################\n",
    "        # Calcular energia cinetica del sistema\n",
    "        E.append(getattr(a, \"ener\") + getattr(b, \"ener\") + getattr(c, \"ener\"))\n",
    "        #############################\n",
    "        \n",
    "        Px.append(getattr(a, \"m\")*getattr(a, \"Vx\") + getattr(b, \"m\")*getattr(b, \"Vx\") + getattr(c, \"m\")*getattr(c, \"Vx\"))\n",
    "        Py.append(getattr(a, \"m\")*getattr(a, \"Vy\") + getattr(b, \"m\")*getattr(b, \"Vy\") + getattr(c, \"m\")*getattr(c, \"Vy\"))\n",
    "        \n",
    "        ############################# Graficar #############################################\n",
    "        #\n",
    "        fig=plt.figure()\n",
    "        plt.axis(\"equal\") # Proporción entre los ejes \"igual\"\n",
    "        plt.ylim(-17,17)\n",
    "        plt.xlim(-26,26)      \n",
    "        \n",
    "        plt.plot(Xa,Ya) # Trayectoria de A\n",
    "        plt.plot(Xb,Yb) # Trayectoria de B\n",
    "        plt.plot(Xc,Yc) # Trayectoria de C\n",
    "        \n",
    "        # Dibuja bolitas A y B\n",
    "        plt.plot( Xa[-1] + getattr(a,\"r\") * cos(theta), Ya[-1] + getattr(a,\"r\") * sin(theta))\n",
    "        plt.plot( Xb[-1] + getattr(b,\"r\") * cos(theta), Yb[-1] + getattr(b,\"r\") * sin(theta))\n",
    "        plt.plot( Xc[-1] + getattr(c,\"r\") * cos(theta), Yc[-1] + getattr(c,\"r\") * sin(theta))\n",
    "        plt.title('t = {} s'.format( round(t,3)))\n",
    "        plt.xlabel(\"Coordenada X (cm)\")\n",
    "        plt.ylabel(\"Coordenada Y (cm)\")\n",
    "                \n",
    "        # Guardar imágen.\n",
    "        filename = \"trayectoria/{}.png\".format(i)\n",
    "        filenames.append(filename)\n",
    "        plt.savefig(filename)\n",
    "        plt.close()\n",
    "        i += 1\n",
    "        #                 Fin de Graficar.\n",
    "        #########################################################\n",
    "    \n",
    "    PrintStep += 1\n",
    "    \n",
    "    t += deltaT"
   ]
  },
  {
   "cell_type": "code",
   "execution_count": 32,
   "metadata": {
    "scrolled": true
   },
   "outputs": [
    {
     "name": "stdout",
     "output_type": "stream",
     "text": [
      "trayectoria/0.png\n",
      "trayectoria/1.png\n",
      "trayectoria/2.png\n",
      "trayectoria/3.png\n",
      "trayectoria/4.png\n",
      "trayectoria/5.png\n",
      "trayectoria/6.png\n",
      "trayectoria/7.png\n",
      "trayectoria/8.png\n",
      "trayectoria/9.png\n",
      "trayectoria/10.png\n",
      "trayectoria/11.png\n",
      "trayectoria/12.png\n",
      "trayectoria/13.png\n",
      "trayectoria/14.png\n",
      "trayectoria/15.png\n",
      "trayectoria/16.png\n",
      "trayectoria/17.png\n",
      "trayectoria/18.png\n",
      "trayectoria/19.png\n",
      "trayectoria/20.png\n",
      "trayectoria/21.png\n",
      "trayectoria/22.png\n",
      "trayectoria/23.png\n",
      "trayectoria/24.png\n",
      "trayectoria/25.png\n",
      "trayectoria/26.png\n",
      "trayectoria/27.png\n",
      "trayectoria/28.png\n",
      "trayectoria/29.png\n",
      "trayectoria/30.png\n",
      "trayectoria/31.png\n",
      "trayectoria/32.png\n",
      "trayectoria/33.png\n",
      "trayectoria/34.png\n",
      "trayectoria/35.png\n",
      "trayectoria/36.png\n",
      "trayectoria/37.png\n",
      "trayectoria/38.png\n",
      "trayectoria/39.png\n",
      "trayectoria/40.png\n",
      "trayectoria/41.png\n",
      "trayectoria/42.png\n",
      "trayectoria/43.png\n",
      "trayectoria/44.png\n",
      "trayectoria/45.png\n",
      "trayectoria/46.png\n",
      "trayectoria/47.png\n",
      "trayectoria/48.png\n",
      "trayectoria/49.png\n",
      "trayectoria/50.png\n",
      "trayectoria/51.png\n",
      "trayectoria/52.png\n",
      "trayectoria/53.png\n",
      "trayectoria/54.png\n",
      "trayectoria/55.png\n",
      "trayectoria/56.png\n",
      "trayectoria/57.png\n",
      "trayectoria/58.png\n",
      "trayectoria/59.png\n",
      "trayectoria/60.png\n",
      "trayectoria/61.png\n",
      "trayectoria/62.png\n",
      "trayectoria/63.png\n",
      "trayectoria/64.png\n",
      "trayectoria/65.png\n",
      "trayectoria/66.png\n",
      "trayectoria/67.png\n",
      "trayectoria/68.png\n",
      "trayectoria/69.png\n",
      "trayectoria/70.png\n",
      "trayectoria/71.png\n",
      "trayectoria/72.png\n",
      "trayectoria/73.png\n",
      "trayectoria/74.png\n",
      "trayectoria/75.png\n",
      "trayectoria/76.png\n",
      "trayectoria/77.png\n",
      "trayectoria/78.png\n",
      "trayectoria/79.png\n",
      "trayectoria/80.png\n",
      "trayectoria/81.png\n",
      "trayectoria/82.png\n",
      "trayectoria/83.png\n",
      "trayectoria/84.png\n",
      "trayectoria/85.png\n",
      "trayectoria/86.png\n",
      "trayectoria/87.png\n",
      "trayectoria/88.png\n",
      "trayectoria/89.png\n",
      "trayectoria/90.png\n",
      "trayectoria/91.png\n",
      "trayectoria/92.png\n",
      "trayectoria/93.png\n",
      "trayectoria/94.png\n",
      "trayectoria/95.png\n",
      "trayectoria/96.png\n",
      "trayectoria/97.png\n",
      "trayectoria/98.png\n",
      "trayectoria/99.png\n"
     ]
    }
   ],
   "source": [
    "with imageio.get_writer('trayectoria/movie.gif', mode='I') as writer:\n",
    "    for filename in filenames:\n",
    "        print(filename)\n",
    "        image = imageio.imread(filename)\n",
    "        writer.append_data(image)"
   ]
  },
  {
   "cell_type": "code",
   "execution_count": 33,
   "metadata": {},
   "outputs": [
    {
     "data": {
      "text/plain": [
       "Text(0.5, 1.0, '$Energia$')"
      ]
     },
     "execution_count": 33,
     "metadata": {},
     "output_type": "execute_result"
    },
    {
     "data": {
      "image/png": "[encoded data removed]",
      "text/plain": [
       "<Figure size 432x288 with 1 Axes>"
      ]
     },
     "metadata": {
      "needs_background": "light"
     },
     "output_type": "display_data"
    }
   ],
   "source": [
    "fig=plt.figure()\n",
    "plt.axis(\"equal\") # Proporción entre los ejes \"igual\"\n",
    "plt.plot(E)\n",
    "plt.title(\"$Energia$\")"
   ]
  },
  {
   "cell_type": "code",
   "execution_count": 34,
   "metadata": {},
   "outputs": [
    {
     "data": {
      "text/plain": [
       "Text(0.5, 1.0, '$Momento$')"
      ]
     },
     "execution_count": 34,
     "metadata": {},
     "output_type": "execute_result"
    },
    {
     "data": {
      "image/png": "[encoded data removed]",
      "text/plain": [
       "<Figure size 432x288 with 1 Axes>"
      ]
     },
     "metadata": {
      "needs_background": "light"
     },
     "output_type": "display_data"
    }
   ],
   "source": [
    "fig=plt.figure()\n",
    "plt.axis(\"equal\") # Proporción entre los ejes \"igual\"\n",
    "plt.plot(Px)\n",
    "plt.plot(Py)\n",
    "plt.title(\"$Momento$\")"
   ]
  },
  {
   "cell_type": "code",
   "execution_count": null,
   "metadata": {
    "collapsed": true
   },
   "outputs": [],
   "source": []
  }
 ],
 "metadata": {
  "kernelspec": {
   "display_name": "Python 3",
   "language": "python",
   "name": "python3"
  },
  "language_info": {
   "codemirror_mode": {
    "name": "ipython",
    "version": 2
   },
   "file_extension": ".py",
   "mimetype": "text/x-python",
   "name": "python",
   "nbconvert_exporter": "python",
   "pygments_lexer": "ipython2",
   "version": "2.7.13"
  }
 },
 "nbformat": 4,
 "nbformat_minor": 2
}
